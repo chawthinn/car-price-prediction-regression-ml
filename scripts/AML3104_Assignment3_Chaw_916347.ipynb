{
 "cells": [
  {
   "cell_type": "markdown",
   "id": "8d6cb60a",
   "metadata": {},
   "source": [
    "* Date: 16-06-2025\n",
    "* Student name: Chaw Su Su Thinn\n",
    "* Student ID: c0916347"
   ]
  },
  {
   "cell_type": "markdown",
   "id": "c286f73c",
   "metadata": {},
   "source": [
    "## Objective"
   ]
  },
  {
   "cell_type": "markdown",
   "id": "18df74d9",
   "metadata": {},
   "source": [
    "You are given a dataset of used car listings. Your task is to build multiple regression models to predict the selling price of used cars based on features like age, brand, kilometers driven, fuel type, etc.\n",
    "Compare the models based on performance, and save the best model for future deployment."
   ]
  },
  {
   "cell_type": "markdown",
   "id": "89854a2c",
   "metadata": {},
   "source": [
    "## Dataset"
   ]
  },
  {
   "cell_type": "markdown",
   "id": "d02014cb",
   "metadata": {},
   "source": [
    "The dataset used in this project is sourced from the Kaggle competition: [Playground Series - Season 4, Episode 9](https://www.kaggle.com/competitions/playground-series-s4e9/overview).\n",
    "\n",
    "It includes training and testing sets related to used car listings, designed for regression-based price prediction. \n",
    "\n",
    "Each row represents an individual car listing with several key attributes:\n",
    "\n",
    "* **id**: Unique identifier for each car entry.\n",
    "* **brand**: Manufacturer name (e.g., Toyota, BMW).\n",
    "* **model**: Specific model name, often containing trim-level info.\n",
    "* **year**: Year of manufacture — useful for calculating vehicle age.\n",
    "* **transmission**: Indicates if the vehicle is **Automatic** or **Manual**.\n",
    "* **fuel_type**: Type of fuel used (e.g., **Gasoline**, **Diesel**, **Hybrid**, etc.).\n",
    "* **engine_type**: Description of the engine (e.g., V6, 2.0L).\n",
    "* **exterior_color**: Primary body color.\n",
    "* **interior_color**: Interior color.\n",
    "* **accident**: Indicates if the vehicle has any accident history.\n",
    "* **clean_title**: Whether the car holds a clean ownership title.\n",
    "* **price** *(only in train.csv)*: The **target** variable which is the resale price of the vehicle."
   ]
  },
  {
   "cell_type": "markdown",
   "id": "375e8753",
   "metadata": {},
   "source": [
    "## Import libraries"
   ]
  },
  {
   "cell_type": "code",
   "execution_count": 1,
   "id": "e3b93271",
   "metadata": {},
   "outputs": [
    {
     "name": "stdout",
     "output_type": "stream",
     "text": [
      "Requirement already satisfied: pandas in c:\\users\\home\\appdata\\local\\programs\\python\\python312\\lib\\site-packages (from -r ../requirements.txt (line 1)) (2.2.3)\n",
      "Requirement already satisfied: matplotlib in c:\\users\\home\\appdata\\local\\programs\\python\\python312\\lib\\site-packages (from -r ../requirements.txt (line 2)) (3.9.1.post1)\n",
      "Requirement already satisfied: missingno in c:\\users\\home\\appdata\\local\\programs\\python\\python312\\lib\\site-packages (from -r ../requirements.txt (line 3)) (0.5.2)\n",
      "Requirement already satisfied: numpy>=1.26.0 in c:\\users\\home\\appdata\\local\\programs\\python\\python312\\lib\\site-packages (from pandas->-r ../requirements.txt (line 1)) (2.2.4)\n",
      "Requirement already satisfied: python-dateutil>=2.8.2 in c:\\users\\home\\appdata\\local\\programs\\python\\python312\\lib\\site-packages (from pandas->-r ../requirements.txt (line 1)) (2.9.0.post0)\n",
      "Requirement already satisfied: pytz>=2020.1 in c:\\users\\home\\appdata\\local\\programs\\python\\python312\\lib\\site-packages (from pandas->-r ../requirements.txt (line 1)) (2025.1)\n",
      "Requirement already satisfied: tzdata>=2022.7 in c:\\users\\home\\appdata\\local\\programs\\python\\python312\\lib\\site-packages (from pandas->-r ../requirements.txt (line 1)) (2025.1)\n",
      "Requirement already satisfied: contourpy>=1.0.1 in c:\\users\\home\\appdata\\local\\programs\\python\\python312\\lib\\site-packages (from matplotlib->-r ../requirements.txt (line 2)) (1.2.1)\n",
      "Requirement already satisfied: cycler>=0.10 in c:\\users\\home\\appdata\\local\\programs\\python\\python312\\lib\\site-packages (from matplotlib->-r ../requirements.txt (line 2)) (0.12.1)\n",
      "Requirement already satisfied: fonttools>=4.22.0 in c:\\users\\home\\appdata\\local\\programs\\python\\python312\\lib\\site-packages (from matplotlib->-r ../requirements.txt (line 2)) (4.53.1)\n",
      "Requirement already satisfied: kiwisolver>=1.3.1 in c:\\users\\home\\appdata\\local\\programs\\python\\python312\\lib\\site-packages (from matplotlib->-r ../requirements.txt (line 2)) (1.4.5)\n",
      "Requirement already satisfied: packaging>=20.0 in c:\\users\\home\\appdata\\local\\programs\\python\\python312\\lib\\site-packages (from matplotlib->-r ../requirements.txt (line 2)) (24.2)\n",
      "Requirement already satisfied: pillow>=8 in c:\\users\\home\\appdata\\local\\programs\\python\\python312\\lib\\site-packages (from matplotlib->-r ../requirements.txt (line 2)) (10.4.0)\n",
      "Requirement already satisfied: pyparsing>=2.3.1 in c:\\users\\home\\appdata\\local\\programs\\python\\python312\\lib\\site-packages (from matplotlib->-r ../requirements.txt (line 2)) (3.2.1)\n",
      "Requirement already satisfied: scipy in c:\\users\\home\\appdata\\local\\programs\\python\\python312\\lib\\site-packages (from missingno->-r ../requirements.txt (line 3)) (1.15.1)\n",
      "Requirement already satisfied: seaborn in c:\\users\\home\\appdata\\local\\programs\\python\\python312\\lib\\site-packages (from missingno->-r ../requirements.txt (line 3)) (0.13.2)\n",
      "Requirement already satisfied: six>=1.5 in c:\\users\\home\\appdata\\local\\programs\\python\\python312\\lib\\site-packages (from python-dateutil>=2.8.2->pandas->-r ../requirements.txt (line 1)) (1.17.0)\n",
      "Note: you may need to restart the kernel to use updated packages.\n"
     ]
    }
   ],
   "source": [
    "%pip install -r \"../requirements.txt\""
   ]
  },
  {
   "cell_type": "code",
   "execution_count": 2,
   "id": "ddd7e6fa",
   "metadata": {},
   "outputs": [],
   "source": [
    "from datetime import date\n",
    "import pandas as pd\n",
    "import missingno as msno\n",
    "import matplotlib.pyplot as plt\n",
    "from sklearn.preprocessing import OneHotEncoder\n",
    "from sklearn.compose import ColumnTransformer\n",
    "from category_encoders import TargetEncoder\n",
    "import gc"
   ]
  },
  {
   "cell_type": "markdown",
   "id": "811fe6ff",
   "metadata": {},
   "source": [
    "## 1. Data Preprocessing"
   ]
  },
  {
   "cell_type": "markdown",
   "id": "b148c7a8",
   "metadata": {},
   "source": [
    "### 1.1 Load the dataset and perform basic cleaning (handle missing values, duplicates)."
   ]
  },
  {
   "cell_type": "code",
   "execution_count": 3,
   "id": "40dbc88c",
   "metadata": {},
   "outputs": [],
   "source": [
    "# Define file paths of the datasets\n",
    "train_path = \"../dataset/train.csv\"\n",
    "test_path = \"../dataset/test.csv\"\n",
    "\n",
    "# Load datasets into pandas DataFrames\n",
    "train_df = pd.read_csv(train_path)\n",
    "test_df = pd.read_csv(test_path)"
   ]
  },
  {
   "cell_type": "code",
   "execution_count": 4,
   "id": "f579d8e9",
   "metadata": {},
   "outputs": [
    {
     "data": {
      "text/html": [
       "<div>\n",
       "<style scoped>\n",
       "    .dataframe tbody tr th:only-of-type {\n",
       "        vertical-align: middle;\n",
       "    }\n",
       "\n",
       "    .dataframe tbody tr th {\n",
       "        vertical-align: top;\n",
       "    }\n",
       "\n",
       "    .dataframe thead th {\n",
       "        text-align: right;\n",
       "    }\n",
       "</style>\n",
       "<table border=\"1\" class=\"dataframe\">\n",
       "  <thead>\n",
       "    <tr style=\"text-align: right;\">\n",
       "      <th></th>\n",
       "      <th>id</th>\n",
       "      <th>brand</th>\n",
       "      <th>model</th>\n",
       "      <th>model_year</th>\n",
       "      <th>milage</th>\n",
       "      <th>fuel_type</th>\n",
       "      <th>engine</th>\n",
       "      <th>transmission</th>\n",
       "      <th>ext_col</th>\n",
       "      <th>int_col</th>\n",
       "      <th>accident</th>\n",
       "      <th>clean_title</th>\n",
       "      <th>price</th>\n",
       "    </tr>\n",
       "  </thead>\n",
       "  <tbody>\n",
       "    <tr>\n",
       "      <th>0</th>\n",
       "      <td>0</td>\n",
       "      <td>MINI</td>\n",
       "      <td>Cooper S Base</td>\n",
       "      <td>2007</td>\n",
       "      <td>213000</td>\n",
       "      <td>Gasoline</td>\n",
       "      <td>172.0HP 1.6L 4 Cylinder Engine Gasoline Fuel</td>\n",
       "      <td>A/T</td>\n",
       "      <td>Yellow</td>\n",
       "      <td>Gray</td>\n",
       "      <td>None reported</td>\n",
       "      <td>Yes</td>\n",
       "      <td>4200</td>\n",
       "    </tr>\n",
       "    <tr>\n",
       "      <th>1</th>\n",
       "      <td>1</td>\n",
       "      <td>Lincoln</td>\n",
       "      <td>LS V8</td>\n",
       "      <td>2002</td>\n",
       "      <td>143250</td>\n",
       "      <td>Gasoline</td>\n",
       "      <td>252.0HP 3.9L 8 Cylinder Engine Gasoline Fuel</td>\n",
       "      <td>A/T</td>\n",
       "      <td>Silver</td>\n",
       "      <td>Beige</td>\n",
       "      <td>At least 1 accident or damage reported</td>\n",
       "      <td>Yes</td>\n",
       "      <td>4999</td>\n",
       "    </tr>\n",
       "    <tr>\n",
       "      <th>2</th>\n",
       "      <td>2</td>\n",
       "      <td>Chevrolet</td>\n",
       "      <td>Silverado 2500 LT</td>\n",
       "      <td>2002</td>\n",
       "      <td>136731</td>\n",
       "      <td>E85 Flex Fuel</td>\n",
       "      <td>320.0HP 5.3L 8 Cylinder Engine Flex Fuel Capab...</td>\n",
       "      <td>A/T</td>\n",
       "      <td>Blue</td>\n",
       "      <td>Gray</td>\n",
       "      <td>None reported</td>\n",
       "      <td>Yes</td>\n",
       "      <td>13900</td>\n",
       "    </tr>\n",
       "    <tr>\n",
       "      <th>3</th>\n",
       "      <td>3</td>\n",
       "      <td>Genesis</td>\n",
       "      <td>G90 5.0 Ultimate</td>\n",
       "      <td>2017</td>\n",
       "      <td>19500</td>\n",
       "      <td>Gasoline</td>\n",
       "      <td>420.0HP 5.0L 8 Cylinder Engine Gasoline Fuel</td>\n",
       "      <td>Transmission w/Dual Shift Mode</td>\n",
       "      <td>Black</td>\n",
       "      <td>Black</td>\n",
       "      <td>None reported</td>\n",
       "      <td>Yes</td>\n",
       "      <td>45000</td>\n",
       "    </tr>\n",
       "    <tr>\n",
       "      <th>4</th>\n",
       "      <td>4</td>\n",
       "      <td>Mercedes-Benz</td>\n",
       "      <td>Metris Base</td>\n",
       "      <td>2021</td>\n",
       "      <td>7388</td>\n",
       "      <td>Gasoline</td>\n",
       "      <td>208.0HP 2.0L 4 Cylinder Engine Gasoline Fuel</td>\n",
       "      <td>7-Speed A/T</td>\n",
       "      <td>Black</td>\n",
       "      <td>Beige</td>\n",
       "      <td>None reported</td>\n",
       "      <td>Yes</td>\n",
       "      <td>97500</td>\n",
       "    </tr>\n",
       "  </tbody>\n",
       "</table>\n",
       "</div>"
      ],
      "text/plain": [
       "   id          brand              model  model_year  milage      fuel_type  \\\n",
       "0   0           MINI      Cooper S Base        2007  213000       Gasoline   \n",
       "1   1        Lincoln              LS V8        2002  143250       Gasoline   \n",
       "2   2      Chevrolet  Silverado 2500 LT        2002  136731  E85 Flex Fuel   \n",
       "3   3        Genesis   G90 5.0 Ultimate        2017   19500       Gasoline   \n",
       "4   4  Mercedes-Benz        Metris Base        2021    7388       Gasoline   \n",
       "\n",
       "                                              engine  \\\n",
       "0       172.0HP 1.6L 4 Cylinder Engine Gasoline Fuel   \n",
       "1       252.0HP 3.9L 8 Cylinder Engine Gasoline Fuel   \n",
       "2  320.0HP 5.3L 8 Cylinder Engine Flex Fuel Capab...   \n",
       "3       420.0HP 5.0L 8 Cylinder Engine Gasoline Fuel   \n",
       "4       208.0HP 2.0L 4 Cylinder Engine Gasoline Fuel   \n",
       "\n",
       "                     transmission ext_col int_col  \\\n",
       "0                             A/T  Yellow    Gray   \n",
       "1                             A/T  Silver   Beige   \n",
       "2                             A/T    Blue    Gray   \n",
       "3  Transmission w/Dual Shift Mode   Black   Black   \n",
       "4                     7-Speed A/T   Black   Beige   \n",
       "\n",
       "                                 accident clean_title  price  \n",
       "0                           None reported         Yes   4200  \n",
       "1  At least 1 accident or damage reported         Yes   4999  \n",
       "2                           None reported         Yes  13900  \n",
       "3                           None reported         Yes  45000  \n",
       "4                           None reported         Yes  97500  "
      ]
     },
     "execution_count": 4,
     "metadata": {},
     "output_type": "execute_result"
    }
   ],
   "source": [
    "# Display first 5 rows\n",
    "train_df.head()"
   ]
  },
  {
   "cell_type": "code",
   "execution_count": 5,
   "id": "744204ae",
   "metadata": {},
   "outputs": [
    {
     "data": {
      "text/html": [
       "<div>\n",
       "<style scoped>\n",
       "    .dataframe tbody tr th:only-of-type {\n",
       "        vertical-align: middle;\n",
       "    }\n",
       "\n",
       "    .dataframe tbody tr th {\n",
       "        vertical-align: top;\n",
       "    }\n",
       "\n",
       "    .dataframe thead th {\n",
       "        text-align: right;\n",
       "    }\n",
       "</style>\n",
       "<table border=\"1\" class=\"dataframe\">\n",
       "  <thead>\n",
       "    <tr style=\"text-align: right;\">\n",
       "      <th></th>\n",
       "      <th>id</th>\n",
       "      <th>brand</th>\n",
       "      <th>model</th>\n",
       "      <th>model_year</th>\n",
       "      <th>milage</th>\n",
       "      <th>fuel_type</th>\n",
       "      <th>engine</th>\n",
       "      <th>transmission</th>\n",
       "      <th>ext_col</th>\n",
       "      <th>int_col</th>\n",
       "      <th>accident</th>\n",
       "      <th>clean_title</th>\n",
       "    </tr>\n",
       "  </thead>\n",
       "  <tbody>\n",
       "    <tr>\n",
       "      <th>0</th>\n",
       "      <td>188533</td>\n",
       "      <td>Land</td>\n",
       "      <td>Rover LR2 Base</td>\n",
       "      <td>2015</td>\n",
       "      <td>98000</td>\n",
       "      <td>Gasoline</td>\n",
       "      <td>240.0HP 2.0L 4 Cylinder Engine Gasoline Fuel</td>\n",
       "      <td>6-Speed A/T</td>\n",
       "      <td>White</td>\n",
       "      <td>Beige</td>\n",
       "      <td>None reported</td>\n",
       "      <td>Yes</td>\n",
       "    </tr>\n",
       "    <tr>\n",
       "      <th>1</th>\n",
       "      <td>188534</td>\n",
       "      <td>Land</td>\n",
       "      <td>Rover Defender SE</td>\n",
       "      <td>2020</td>\n",
       "      <td>9142</td>\n",
       "      <td>Hybrid</td>\n",
       "      <td>395.0HP 3.0L Straight 6 Cylinder Engine Gasoli...</td>\n",
       "      <td>8-Speed A/T</td>\n",
       "      <td>Silver</td>\n",
       "      <td>Black</td>\n",
       "      <td>None reported</td>\n",
       "      <td>Yes</td>\n",
       "    </tr>\n",
       "    <tr>\n",
       "      <th>2</th>\n",
       "      <td>188535</td>\n",
       "      <td>Ford</td>\n",
       "      <td>Expedition Limited</td>\n",
       "      <td>2022</td>\n",
       "      <td>28121</td>\n",
       "      <td>Gasoline</td>\n",
       "      <td>3.5L V6 24V PDI DOHC Twin Turbo</td>\n",
       "      <td>10-Speed Automatic</td>\n",
       "      <td>White</td>\n",
       "      <td>Ebony</td>\n",
       "      <td>None reported</td>\n",
       "      <td>NaN</td>\n",
       "    </tr>\n",
       "    <tr>\n",
       "      <th>3</th>\n",
       "      <td>188536</td>\n",
       "      <td>Audi</td>\n",
       "      <td>A6 2.0T Sport</td>\n",
       "      <td>2016</td>\n",
       "      <td>61258</td>\n",
       "      <td>Gasoline</td>\n",
       "      <td>2.0 Liter TFSI</td>\n",
       "      <td>Automatic</td>\n",
       "      <td>Silician Yellow</td>\n",
       "      <td>Black</td>\n",
       "      <td>None reported</td>\n",
       "      <td>NaN</td>\n",
       "    </tr>\n",
       "    <tr>\n",
       "      <th>4</th>\n",
       "      <td>188537</td>\n",
       "      <td>Audi</td>\n",
       "      <td>A6 2.0T Premium Plus</td>\n",
       "      <td>2018</td>\n",
       "      <td>59000</td>\n",
       "      <td>Gasoline</td>\n",
       "      <td>252.0HP 2.0L 4 Cylinder Engine Gasoline Fuel</td>\n",
       "      <td>A/T</td>\n",
       "      <td>Gray</td>\n",
       "      <td>Black</td>\n",
       "      <td>None reported</td>\n",
       "      <td>Yes</td>\n",
       "    </tr>\n",
       "  </tbody>\n",
       "</table>\n",
       "</div>"
      ],
      "text/plain": [
       "       id brand                 model  model_year  milage fuel_type  \\\n",
       "0  188533  Land        Rover LR2 Base        2015   98000  Gasoline   \n",
       "1  188534  Land     Rover Defender SE        2020    9142    Hybrid   \n",
       "2  188535  Ford    Expedition Limited        2022   28121  Gasoline   \n",
       "3  188536  Audi         A6 2.0T Sport        2016   61258  Gasoline   \n",
       "4  188537  Audi  A6 2.0T Premium Plus        2018   59000  Gasoline   \n",
       "\n",
       "                                              engine        transmission  \\\n",
       "0       240.0HP 2.0L 4 Cylinder Engine Gasoline Fuel         6-Speed A/T   \n",
       "1  395.0HP 3.0L Straight 6 Cylinder Engine Gasoli...         8-Speed A/T   \n",
       "2                    3.5L V6 24V PDI DOHC Twin Turbo  10-Speed Automatic   \n",
       "3                                     2.0 Liter TFSI           Automatic   \n",
       "4       252.0HP 2.0L 4 Cylinder Engine Gasoline Fuel                 A/T   \n",
       "\n",
       "           ext_col int_col       accident clean_title  \n",
       "0            White   Beige  None reported         Yes  \n",
       "1           Silver   Black  None reported         Yes  \n",
       "2            White   Ebony  None reported         NaN  \n",
       "3  Silician Yellow   Black  None reported         NaN  \n",
       "4             Gray   Black  None reported         Yes  "
      ]
     },
     "execution_count": 5,
     "metadata": {},
     "output_type": "execute_result"
    }
   ],
   "source": [
    "# Display first 5 rows\n",
    "test_df.head()"
   ]
  },
  {
   "cell_type": "code",
   "execution_count": 6,
   "id": "04eb1838",
   "metadata": {},
   "outputs": [
    {
     "name": "stdout",
     "output_type": "stream",
     "text": [
      "<class 'pandas.core.frame.DataFrame'>\n",
      "RangeIndex: 188533 entries, 0 to 188532\n",
      "Data columns (total 13 columns):\n",
      " #   Column        Non-Null Count   Dtype \n",
      "---  ------        --------------   ----- \n",
      " 0   id            188533 non-null  int64 \n",
      " 1   brand         188533 non-null  object\n",
      " 2   model         188533 non-null  object\n",
      " 3   model_year    188533 non-null  int64 \n",
      " 4   milage        188533 non-null  int64 \n",
      " 5   fuel_type     183450 non-null  object\n",
      " 6   engine        188533 non-null  object\n",
      " 7   transmission  188533 non-null  object\n",
      " 8   ext_col       188533 non-null  object\n",
      " 9   int_col       188533 non-null  object\n",
      " 10  accident      186081 non-null  object\n",
      " 11  clean_title   167114 non-null  object\n",
      " 12  price         188533 non-null  int64 \n",
      "dtypes: int64(4), object(9)\n",
      "memory usage: 18.7+ MB\n"
     ]
    }
   ],
   "source": [
    "# Check data types and non-null counts\n",
    "train_df.info()"
   ]
  },
  {
   "cell_type": "code",
   "execution_count": 7,
   "id": "5a36cd1b",
   "metadata": {},
   "outputs": [
    {
     "name": "stdout",
     "output_type": "stream",
     "text": [
      "<class 'pandas.core.frame.DataFrame'>\n",
      "RangeIndex: 125690 entries, 0 to 125689\n",
      "Data columns (total 12 columns):\n",
      " #   Column        Non-Null Count   Dtype \n",
      "---  ------        --------------   ----- \n",
      " 0   id            125690 non-null  int64 \n",
      " 1   brand         125690 non-null  object\n",
      " 2   model         125690 non-null  object\n",
      " 3   model_year    125690 non-null  int64 \n",
      " 4   milage        125690 non-null  int64 \n",
      " 5   fuel_type     122307 non-null  object\n",
      " 6   engine        125690 non-null  object\n",
      " 7   transmission  125690 non-null  object\n",
      " 8   ext_col       125690 non-null  object\n",
      " 9   int_col       125690 non-null  object\n",
      " 10  accident      124058 non-null  object\n",
      " 11  clean_title   111451 non-null  object\n",
      "dtypes: int64(3), object(9)\n",
      "memory usage: 11.5+ MB\n"
     ]
    }
   ],
   "source": [
    "# Check data types and non-null counts\n",
    "test_df.info()"
   ]
  },
  {
   "cell_type": "code",
   "execution_count": 8,
   "id": "32120faf",
   "metadata": {},
   "outputs": [
    {
     "data": {
      "text/html": [
       "<div>\n",
       "<style scoped>\n",
       "    .dataframe tbody tr th:only-of-type {\n",
       "        vertical-align: middle;\n",
       "    }\n",
       "\n",
       "    .dataframe tbody tr th {\n",
       "        vertical-align: top;\n",
       "    }\n",
       "\n",
       "    .dataframe thead th {\n",
       "        text-align: right;\n",
       "    }\n",
       "</style>\n",
       "<table border=\"1\" class=\"dataframe\">\n",
       "  <thead>\n",
       "    <tr style=\"text-align: right;\">\n",
       "      <th></th>\n",
       "      <th>id</th>\n",
       "      <th>model_year</th>\n",
       "      <th>milage</th>\n",
       "      <th>price</th>\n",
       "    </tr>\n",
       "  </thead>\n",
       "  <tbody>\n",
       "    <tr>\n",
       "      <th>count</th>\n",
       "      <td>188533.000000</td>\n",
       "      <td>188533.000000</td>\n",
       "      <td>188533.000000</td>\n",
       "      <td>1.885330e+05</td>\n",
       "    </tr>\n",
       "    <tr>\n",
       "      <th>mean</th>\n",
       "      <td>94266.000000</td>\n",
       "      <td>2015.829998</td>\n",
       "      <td>65705.295174</td>\n",
       "      <td>4.387802e+04</td>\n",
       "    </tr>\n",
       "    <tr>\n",
       "      <th>std</th>\n",
       "      <td>54424.933488</td>\n",
       "      <td>5.660967</td>\n",
       "      <td>49798.158076</td>\n",
       "      <td>7.881952e+04</td>\n",
       "    </tr>\n",
       "    <tr>\n",
       "      <th>min</th>\n",
       "      <td>0.000000</td>\n",
       "      <td>1974.000000</td>\n",
       "      <td>100.000000</td>\n",
       "      <td>2.000000e+03</td>\n",
       "    </tr>\n",
       "    <tr>\n",
       "      <th>25%</th>\n",
       "      <td>47133.000000</td>\n",
       "      <td>2013.000000</td>\n",
       "      <td>24115.000000</td>\n",
       "      <td>1.700000e+04</td>\n",
       "    </tr>\n",
       "    <tr>\n",
       "      <th>50%</th>\n",
       "      <td>94266.000000</td>\n",
       "      <td>2017.000000</td>\n",
       "      <td>57785.000000</td>\n",
       "      <td>3.082500e+04</td>\n",
       "    </tr>\n",
       "    <tr>\n",
       "      <th>75%</th>\n",
       "      <td>141399.000000</td>\n",
       "      <td>2020.000000</td>\n",
       "      <td>95400.000000</td>\n",
       "      <td>4.990000e+04</td>\n",
       "    </tr>\n",
       "    <tr>\n",
       "      <th>max</th>\n",
       "      <td>188532.000000</td>\n",
       "      <td>2024.000000</td>\n",
       "      <td>405000.000000</td>\n",
       "      <td>2.954083e+06</td>\n",
       "    </tr>\n",
       "  </tbody>\n",
       "</table>\n",
       "</div>"
      ],
      "text/plain": [
       "                  id     model_year         milage         price\n",
       "count  188533.000000  188533.000000  188533.000000  1.885330e+05\n",
       "mean    94266.000000    2015.829998   65705.295174  4.387802e+04\n",
       "std     54424.933488       5.660967   49798.158076  7.881952e+04\n",
       "min         0.000000    1974.000000     100.000000  2.000000e+03\n",
       "25%     47133.000000    2013.000000   24115.000000  1.700000e+04\n",
       "50%     94266.000000    2017.000000   57785.000000  3.082500e+04\n",
       "75%    141399.000000    2020.000000   95400.000000  4.990000e+04\n",
       "max    188532.000000    2024.000000  405000.000000  2.954083e+06"
      ]
     },
     "execution_count": 8,
     "metadata": {},
     "output_type": "execute_result"
    }
   ],
   "source": [
    "# Check statistics summary\n",
    "train_df.describe()"
   ]
  },
  {
   "cell_type": "code",
   "execution_count": 9,
   "id": "40f649ca",
   "metadata": {},
   "outputs": [
    {
     "data": {
      "text/html": [
       "<div>\n",
       "<style scoped>\n",
       "    .dataframe tbody tr th:only-of-type {\n",
       "        vertical-align: middle;\n",
       "    }\n",
       "\n",
       "    .dataframe tbody tr th {\n",
       "        vertical-align: top;\n",
       "    }\n",
       "\n",
       "    .dataframe thead th {\n",
       "        text-align: right;\n",
       "    }\n",
       "</style>\n",
       "<table border=\"1\" class=\"dataframe\">\n",
       "  <thead>\n",
       "    <tr style=\"text-align: right;\">\n",
       "      <th></th>\n",
       "      <th>id</th>\n",
       "      <th>model_year</th>\n",
       "      <th>milage</th>\n",
       "    </tr>\n",
       "  </thead>\n",
       "  <tbody>\n",
       "    <tr>\n",
       "      <th>count</th>\n",
       "      <td>125690.000000</td>\n",
       "      <td>125690.000000</td>\n",
       "      <td>125690.000000</td>\n",
       "    </tr>\n",
       "    <tr>\n",
       "      <th>mean</th>\n",
       "      <td>251377.500000</td>\n",
       "      <td>2015.797526</td>\n",
       "      <td>66042.581510</td>\n",
       "    </tr>\n",
       "    <tr>\n",
       "      <th>std</th>\n",
       "      <td>36283.722005</td>\n",
       "      <td>5.673797</td>\n",
       "      <td>50223.858435</td>\n",
       "    </tr>\n",
       "    <tr>\n",
       "      <th>min</th>\n",
       "      <td>188533.000000</td>\n",
       "      <td>1974.000000</td>\n",
       "      <td>100.000000</td>\n",
       "    </tr>\n",
       "    <tr>\n",
       "      <th>25%</th>\n",
       "      <td>219955.250000</td>\n",
       "      <td>2013.000000</td>\n",
       "      <td>24500.000000</td>\n",
       "    </tr>\n",
       "    <tr>\n",
       "      <th>50%</th>\n",
       "      <td>251377.500000</td>\n",
       "      <td>2017.000000</td>\n",
       "      <td>57500.000000</td>\n",
       "    </tr>\n",
       "    <tr>\n",
       "      <th>75%</th>\n",
       "      <td>282799.750000</td>\n",
       "      <td>2020.000000</td>\n",
       "      <td>95798.000000</td>\n",
       "    </tr>\n",
       "    <tr>\n",
       "      <th>max</th>\n",
       "      <td>314222.000000</td>\n",
       "      <td>2024.000000</td>\n",
       "      <td>405000.000000</td>\n",
       "    </tr>\n",
       "  </tbody>\n",
       "</table>\n",
       "</div>"
      ],
      "text/plain": [
       "                  id     model_year         milage\n",
       "count  125690.000000  125690.000000  125690.000000\n",
       "mean   251377.500000    2015.797526   66042.581510\n",
       "std     36283.722005       5.673797   50223.858435\n",
       "min    188533.000000    1974.000000     100.000000\n",
       "25%    219955.250000    2013.000000   24500.000000\n",
       "50%    251377.500000    2017.000000   57500.000000\n",
       "75%    282799.750000    2020.000000   95798.000000\n",
       "max    314222.000000    2024.000000  405000.000000"
      ]
     },
     "execution_count": 9,
     "metadata": {},
     "output_type": "execute_result"
    }
   ],
   "source": [
    "# Check statistics summary\n",
    "test_df.describe()"
   ]
  },
  {
   "cell_type": "code",
   "execution_count": 10,
   "id": "39a64b2b",
   "metadata": {},
   "outputs": [
    {
     "data": {
      "text/plain": [
       "id                  0\n",
       "brand               0\n",
       "model               0\n",
       "model_year          0\n",
       "milage              0\n",
       "fuel_type        5083\n",
       "engine              0\n",
       "transmission        0\n",
       "ext_col             0\n",
       "int_col             0\n",
       "accident         2452\n",
       "clean_title     21419\n",
       "price               0\n",
       "dtype: int64"
      ]
     },
     "execution_count": 10,
     "metadata": {},
     "output_type": "execute_result"
    }
   ],
   "source": [
    "# Check missing values for each column\n",
    "train_df.isna().sum()"
   ]
  },
  {
   "cell_type": "code",
   "execution_count": 11,
   "id": "864128aa",
   "metadata": {},
   "outputs": [
    {
     "data": {
      "text/plain": [
       "id                  0\n",
       "brand               0\n",
       "model               0\n",
       "model_year          0\n",
       "milage              0\n",
       "fuel_type        3383\n",
       "engine              0\n",
       "transmission        0\n",
       "ext_col             0\n",
       "int_col             0\n",
       "accident         1632\n",
       "clean_title     14239\n",
       "dtype: int64"
      ]
     },
     "execution_count": 11,
     "metadata": {},
     "output_type": "execute_result"
    }
   ],
   "source": [
    "# Check missing values for each column\n",
    "test_df.isna().sum()"
   ]
  },
  {
   "cell_type": "markdown",
   "id": "47afabd0",
   "metadata": {},
   "source": [
    "**Observations from initial analysis of both datasets:**\n",
    "\n",
    "* The training set contains 188,533 records, while the test set contains 125,690 records.\n",
    "\n",
    "* From train_df,\n",
    "\n",
    "    * There are 5083 missing values in `fuel_type` and 2452 in `accident`. \n",
    "\n",
    "    * Meanwhile, `clean_title` has 21419 missing records. I will further analyze whether to drop these records or replace them. \n",
    "\n",
    "* From test_df,\n",
    "\n",
    "    * 3383 missing `fuel_type` records and 1632 missing `accident` records.\n",
    "\n",
    "    * Whereas, there are 14239 missing records in `clean_title`."
   ]
  },
  {
   "cell_type": "code",
   "execution_count": 12,
   "id": "432149dd",
   "metadata": {},
   "outputs": [
    {
     "data": {
      "text/plain": [
       "<Axes: >"
      ]
     },
     "execution_count": 12,
     "metadata": {},
     "output_type": "execute_result"
    },
    {
     "data": {
      "image/png": "[encoded data removed]",
      "text/plain": [
       "<Figure size 1200x600 with 2 Axes>"
      ]
     },
     "metadata": {},
     "output_type": "display_data"
    }
   ],
   "source": [
    "# Visualize missing values\n",
    "msno.matrix(train_df, figsize=(12, 6), fontsize=10)"
   ]
  },
  {
   "cell_type": "code",
   "execution_count": 13,
   "id": "de703cd7",
   "metadata": {},
   "outputs": [
    {
     "data": {
      "text/plain": [
       "<Axes: >"
      ]
     },
     "execution_count": 13,
     "metadata": {},
     "output_type": "execute_result"
    },
    {
     "data": {
      "image/png": "[encoded data removed]",
      "text/plain": [
       "<Figure size 1200x600 with 2 Axes>"
      ]
     },
     "metadata": {},
     "output_type": "display_data"
    }
   ],
   "source": [
    "msno.heatmap(train_df, figsize=(12, 6), fontsize=10)"
   ]
  },
  {
   "cell_type": "markdown",
   "id": "8f694a5a",
   "metadata": {},
   "source": [
    "**Observations from missing value matrix and heatmap:**\n",
    "\n",
    "* The matrix shows missing values mostly occur independently across `fuel_type`, `accident`, and `clean_title`.\n",
    "\n",
    "* From the heatmap, only `accident` and `clean_title` have a weak correlation (0.3), meaning some overlap in missing rows, but nothing strong enough to suggest joint imputation.\n",
    "\n",
    "* So, I’ll handle missing values for each column separately."
   ]
  },
  {
   "cell_type": "code",
   "execution_count": 14,
   "id": "24384825",
   "metadata": {},
   "outputs": [
    {
     "name": "stdout",
     "output_type": "stream",
     "text": [
      "Unique values count of fuel_type: 7\n",
      "['Gasoline' 'E85 Flex Fuel' nan 'Hybrid' 'Diesel' 'Plug-In Hybrid' '–'\n",
      " 'not supported']\n",
      "\n",
      "Unique values count of accident: 2\n",
      "['None reported' 'At least 1 accident or damage reported' nan]\n",
      "\n",
      "Unique values count of clean_title: 1\n",
      "['Yes' nan]\n",
      "\n"
     ]
    }
   ],
   "source": [
    "# Verify unique values in the missing columns\n",
    "missing_columns = train_df.columns[train_df.isna().any()]\n",
    "\n",
    "for col in missing_columns:\n",
    "    print(f\"Unique values count of {col}: {train_df[col].nunique()}\")\n",
    "    print(f\"{train_df[col].unique()}\\n\")"
   ]
  },
  {
   "cell_type": "code",
   "execution_count": 15,
   "id": "e93f5b80",
   "metadata": {},
   "outputs": [
    {
     "name": "stdout",
     "output_type": "stream",
     "text": [
      "Value counts of fuel_type: fuel_type\n",
      "Gasoline          165940\n",
      "Hybrid              6832\n",
      "E85 Flex Fuel       5406\n",
      "Diesel              3955\n",
      "–                    781\n",
      "Plug-In Hybrid       521\n",
      "not supported         15\n",
      "Name: count, dtype: int64\n",
      "\n",
      "Value counts of accident: accident\n",
      "None reported                             144514\n",
      "At least 1 accident or damage reported     41567\n",
      "Name: count, dtype: int64\n",
      "\n",
      "Value counts of clean_title: clean_title\n",
      "Yes    167114\n",
      "Name: count, dtype: int64\n",
      "\n"
     ]
    }
   ],
   "source": [
    "for col in missing_columns:\n",
    "    print(f\"Value counts of {col}: {train_df[col].value_counts()}\\n\")"
   ]
  },
  {
   "cell_type": "markdown",
   "id": "e22ff83a",
   "metadata": {},
   "source": [
    "**Observations from unqiue values and counts:**\n",
    "\n",
    "* All three columns that have missing values are categorical.\n",
    "\n",
    "    * `fuel_type` has 7 unique values. Among them, `–` (781 records) and `not supported` (15 records) don't indicate valid fuel types. So, I’ll treate them as invalid fuel types alongside the missing values, and replace with `Unknown`. \n",
    "\n",
    "    * `accident` has only two values, `None reported` and `At least 1 accident or damage reported`. Since `None Reported` has 144,514 rows, I will leave them as-is, and I’ll fill missing values with `Unknown`.\n",
    "\n",
    "    * `clean_title` only has `Yes`. Since there’s no alternative value, I’ll treat missing records as `Unknown`."
   ]
  },
  {
   "cell_type": "code",
   "execution_count": 16,
   "id": "92b03ace",
   "metadata": {},
   "outputs": [],
   "source": [
    "# Create function to clean and standardize columns\n",
    "def clean_categorical_columns(df):\n",
    "    df = df.copy()\n",
    "\n",
    "    # Define valid categorical types\n",
    "    valid_fuels = {'gasoline', 'diesel', 'electric', 'hybrid', 'plug-in hybrid', 'flex fuel', 'natural gas'}\n",
    "\n",
    "    # Replace invalid types in 'fuel_type' with 'Unknown'\n",
    "    df['fuel_type'] = df['fuel_type'].str.strip().str.lower().apply(\n",
    "        lambda x: x if x in valid_fuels else 'Unknown'\n",
    "    )\n",
    "\n",
    "    # Replace missing values in 'accident'\n",
    "    df['accident'] = df['accident'].fillna('Unknown')\n",
    "\n",
    "    # Replace missing values in 'clean_title'\n",
    "    df['clean_title'] = df['clean_title'].fillna('Unknown')\n",
    "\n",
    "    return df"
   ]
  },
  {
   "cell_type": "code",
   "execution_count": 17,
   "id": "ccdef40e",
   "metadata": {},
   "outputs": [],
   "source": [
    "# Call function to clean both datasets\n",
    "train_df = clean_categorical_columns(train_df)\n",
    "test_df = clean_categorical_columns(test_df)"
   ]
  },
  {
   "cell_type": "code",
   "execution_count": 18,
   "id": "2aeafec8",
   "metadata": {},
   "outputs": [
    {
     "name": "stdout",
     "output_type": "stream",
     "text": [
      "id              0\n",
      "brand           0\n",
      "model           0\n",
      "model_year      0\n",
      "milage          0\n",
      "fuel_type       0\n",
      "engine          0\n",
      "transmission    0\n",
      "ext_col         0\n",
      "int_col         0\n",
      "accident        0\n",
      "clean_title     0\n",
      "price           0\n",
      "dtype: int64\n",
      "id              0\n",
      "brand           0\n",
      "model           0\n",
      "model_year      0\n",
      "milage          0\n",
      "fuel_type       0\n",
      "engine          0\n",
      "transmission    0\n",
      "ext_col         0\n",
      "int_col         0\n",
      "accident        0\n",
      "clean_title     0\n",
      "dtype: int64\n"
     ]
    }
   ],
   "source": [
    "# Verify again\n",
    "print(train_df.isna().sum())\n",
    "print(test_df.isna().sum())"
   ]
  },
  {
   "cell_type": "code",
   "execution_count": 19,
   "id": "50265d85",
   "metadata": {},
   "outputs": [
    {
     "name": "stdout",
     "output_type": "stream",
     "text": [
      "0\n"
     ]
    }
   ],
   "source": [
    "# Check full row duplicates\n",
    "print(train_df.duplicated().sum())"
   ]
  },
  {
   "cell_type": "code",
   "execution_count": 20,
   "id": "992984cd",
   "metadata": {},
   "outputs": [
    {
     "name": "stdout",
     "output_type": "stream",
     "text": [
      "356\n"
     ]
    }
   ],
   "source": [
    "# Define columns to check\n",
    "to_check = ['brand', 'model', 'model_year', 'milage', 'fuel_type', 'engine', 'transmission', 'ext_col', 'int_col', 'accident']\n",
    "\n",
    "# Check count of every duplicated row including first occurrence\n",
    "print(train_df.duplicated(subset=to_check, keep=False).sum()) "
   ]
  },
  {
   "cell_type": "code",
   "execution_count": 21,
   "id": "70d429b7",
   "metadata": {},
   "outputs": [
    {
     "name": "stdout",
     "output_type": "stream",
     "text": [
      "0\n"
     ]
    }
   ],
   "source": [
    "# Add 'clean_title' as well to check for duplciates \n",
    "print(train_df.duplicated(subset=to_check + ['clean_title'], keep=False).sum()) "
   ]
  },
  {
   "cell_type": "markdown",
   "id": "7896ea41",
   "metadata": {},
   "source": [
    "**Observations from duplicate checks:**\n",
    "\n",
    "* Using `train_df.duplicated().sum()`, I found 0 exact duplicates across all columns.\n",
    "\n",
    "* After that, I checked a subset of columns that define a car’s specification and history (`brand`, `model`, `model_year`, `milage`, `fuel_type`, `engine`, `transmission`, `ext_col`, `int_col`, `accident`), and there are 356 duplicate entries found. \n",
    "\n",
    "* However,I added `clean_title` in the subset. Then, the duplicate count drops back to 0. This means that listings which are otherwise identical differ only by title condition (`clean_title`). I will not drop these since this is considered as a different record."
   ]
  },
  {
   "cell_type": "markdown",
   "id": "f24288c2",
   "metadata": {},
   "source": [
    "### 1.2 Create a new feature: `car_age = current_year - year`."
   ]
  },
  {
   "cell_type": "code",
   "execution_count": 22,
   "id": "77046643",
   "metadata": {},
   "outputs": [
    {
     "name": "stdout",
     "output_type": "stream",
     "text": [
      "2025\n"
     ]
    }
   ],
   "source": [
    "# Get current year using date.today().year\n",
    "current_year = date.today().year\n",
    "print(current_year)"
   ]
  },
  {
   "cell_type": "code",
   "execution_count": 23,
   "id": "35427769",
   "metadata": {},
   "outputs": [
    {
     "data": {
      "text/plain": [
       "array([2007, 2002, 2017, 2021, 2018, 2016, 2020, 2015, 2011, 2013, 2023,\n",
       "       2019, 2012, 2014, 2008, 2009, 2022, 2003, 2005, 2001, 2006, 2000,\n",
       "       2010, 2004, 1997, 1998, 1999, 1994, 1993, 1996, 1995, 2024, 1974,\n",
       "       1992])"
      ]
     },
     "execution_count": 23,
     "metadata": {},
     "output_type": "execute_result"
    }
   ],
   "source": [
    "# Check unique values of model year\n",
    "train_df['model_year'].unique()"
   ]
  },
  {
   "cell_type": "code",
   "execution_count": 24,
   "id": "8730570d",
   "metadata": {},
   "outputs": [
    {
     "data": {
      "text/html": [
       "<div>\n",
       "<style scoped>\n",
       "    .dataframe tbody tr th:only-of-type {\n",
       "        vertical-align: middle;\n",
       "    }\n",
       "\n",
       "    .dataframe tbody tr th {\n",
       "        vertical-align: top;\n",
       "    }\n",
       "\n",
       "    .dataframe thead th {\n",
       "        text-align: right;\n",
       "    }\n",
       "</style>\n",
       "<table border=\"1\" class=\"dataframe\">\n",
       "  <thead>\n",
       "    <tr style=\"text-align: right;\">\n",
       "      <th></th>\n",
       "      <th>id</th>\n",
       "      <th>brand</th>\n",
       "      <th>model</th>\n",
       "      <th>model_year</th>\n",
       "      <th>milage</th>\n",
       "      <th>fuel_type</th>\n",
       "      <th>engine</th>\n",
       "      <th>transmission</th>\n",
       "      <th>ext_col</th>\n",
       "      <th>int_col</th>\n",
       "      <th>accident</th>\n",
       "      <th>clean_title</th>\n",
       "      <th>price</th>\n",
       "      <th>car_age</th>\n",
       "    </tr>\n",
       "  </thead>\n",
       "  <tbody>\n",
       "    <tr>\n",
       "      <th>0</th>\n",
       "      <td>0</td>\n",
       "      <td>MINI</td>\n",
       "      <td>Cooper S Base</td>\n",
       "      <td>2007</td>\n",
       "      <td>213000</td>\n",
       "      <td>gasoline</td>\n",
       "      <td>172.0HP 1.6L 4 Cylinder Engine Gasoline Fuel</td>\n",
       "      <td>A/T</td>\n",
       "      <td>Yellow</td>\n",
       "      <td>Gray</td>\n",
       "      <td>None reported</td>\n",
       "      <td>Yes</td>\n",
       "      <td>4200</td>\n",
       "      <td>18</td>\n",
       "    </tr>\n",
       "    <tr>\n",
       "      <th>1</th>\n",
       "      <td>1</td>\n",
       "      <td>Lincoln</td>\n",
       "      <td>LS V8</td>\n",
       "      <td>2002</td>\n",
       "      <td>143250</td>\n",
       "      <td>gasoline</td>\n",
       "      <td>252.0HP 3.9L 8 Cylinder Engine Gasoline Fuel</td>\n",
       "      <td>A/T</td>\n",
       "      <td>Silver</td>\n",
       "      <td>Beige</td>\n",
       "      <td>At least 1 accident or damage reported</td>\n",
       "      <td>Yes</td>\n",
       "      <td>4999</td>\n",
       "      <td>23</td>\n",
       "    </tr>\n",
       "    <tr>\n",
       "      <th>2</th>\n",
       "      <td>2</td>\n",
       "      <td>Chevrolet</td>\n",
       "      <td>Silverado 2500 LT</td>\n",
       "      <td>2002</td>\n",
       "      <td>136731</td>\n",
       "      <td>Unknown</td>\n",
       "      <td>320.0HP 5.3L 8 Cylinder Engine Flex Fuel Capab...</td>\n",
       "      <td>A/T</td>\n",
       "      <td>Blue</td>\n",
       "      <td>Gray</td>\n",
       "      <td>None reported</td>\n",
       "      <td>Yes</td>\n",
       "      <td>13900</td>\n",
       "      <td>23</td>\n",
       "    </tr>\n",
       "    <tr>\n",
       "      <th>3</th>\n",
       "      <td>3</td>\n",
       "      <td>Genesis</td>\n",
       "      <td>G90 5.0 Ultimate</td>\n",
       "      <td>2017</td>\n",
       "      <td>19500</td>\n",
       "      <td>gasoline</td>\n",
       "      <td>420.0HP 5.0L 8 Cylinder Engine Gasoline Fuel</td>\n",
       "      <td>Transmission w/Dual Shift Mode</td>\n",
       "      <td>Black</td>\n",
       "      <td>Black</td>\n",
       "      <td>None reported</td>\n",
       "      <td>Yes</td>\n",
       "      <td>45000</td>\n",
       "      <td>8</td>\n",
       "    </tr>\n",
       "    <tr>\n",
       "      <th>4</th>\n",
       "      <td>4</td>\n",
       "      <td>Mercedes-Benz</td>\n",
       "      <td>Metris Base</td>\n",
       "      <td>2021</td>\n",
       "      <td>7388</td>\n",
       "      <td>gasoline</td>\n",
       "      <td>208.0HP 2.0L 4 Cylinder Engine Gasoline Fuel</td>\n",
       "      <td>7-Speed A/T</td>\n",
       "      <td>Black</td>\n",
       "      <td>Beige</td>\n",
       "      <td>None reported</td>\n",
       "      <td>Yes</td>\n",
       "      <td>97500</td>\n",
       "      <td>4</td>\n",
       "    </tr>\n",
       "  </tbody>\n",
       "</table>\n",
       "</div>"
      ],
      "text/plain": [
       "   id          brand              model  model_year  milage fuel_type  \\\n",
       "0   0           MINI      Cooper S Base        2007  213000  gasoline   \n",
       "1   1        Lincoln              LS V8        2002  143250  gasoline   \n",
       "2   2      Chevrolet  Silverado 2500 LT        2002  136731   Unknown   \n",
       "3   3        Genesis   G90 5.0 Ultimate        2017   19500  gasoline   \n",
       "4   4  Mercedes-Benz        Metris Base        2021    7388  gasoline   \n",
       "\n",
       "                                              engine  \\\n",
       "0       172.0HP 1.6L 4 Cylinder Engine Gasoline Fuel   \n",
       "1       252.0HP 3.9L 8 Cylinder Engine Gasoline Fuel   \n",
       "2  320.0HP 5.3L 8 Cylinder Engine Flex Fuel Capab...   \n",
       "3       420.0HP 5.0L 8 Cylinder Engine Gasoline Fuel   \n",
       "4       208.0HP 2.0L 4 Cylinder Engine Gasoline Fuel   \n",
       "\n",
       "                     transmission ext_col int_col  \\\n",
       "0                             A/T  Yellow    Gray   \n",
       "1                             A/T  Silver   Beige   \n",
       "2                             A/T    Blue    Gray   \n",
       "3  Transmission w/Dual Shift Mode   Black   Black   \n",
       "4                     7-Speed A/T   Black   Beige   \n",
       "\n",
       "                                 accident clean_title  price  car_age  \n",
       "0                           None reported         Yes   4200       18  \n",
       "1  At least 1 accident or damage reported         Yes   4999       23  \n",
       "2                           None reported         Yes  13900       23  \n",
       "3                           None reported         Yes  45000        8  \n",
       "4                           None reported         Yes  97500        4  "
      ]
     },
     "execution_count": 24,
     "metadata": {},
     "output_type": "execute_result"
    }
   ],
   "source": [
    "# Create new column to calculate car age\n",
    "train_df['car_age'] = current_year - train_df['model_year']\n",
    "train_df.head()"
   ]
  },
  {
   "cell_type": "code",
   "execution_count": 25,
   "id": "3c6d4407",
   "metadata": {},
   "outputs": [
    {
     "data": {
      "text/html": [
       "<div>\n",
       "<style scoped>\n",
       "    .dataframe tbody tr th:only-of-type {\n",
       "        vertical-align: middle;\n",
       "    }\n",
       "\n",
       "    .dataframe tbody tr th {\n",
       "        vertical-align: top;\n",
       "    }\n",
       "\n",
       "    .dataframe thead th {\n",
       "        text-align: right;\n",
       "    }\n",
       "</style>\n",
       "<table border=\"1\" class=\"dataframe\">\n",
       "  <thead>\n",
       "    <tr style=\"text-align: right;\">\n",
       "      <th></th>\n",
       "      <th>id</th>\n",
       "      <th>brand</th>\n",
       "      <th>model</th>\n",
       "      <th>model_year</th>\n",
       "      <th>milage</th>\n",
       "      <th>fuel_type</th>\n",
       "      <th>engine</th>\n",
       "      <th>transmission</th>\n",
       "      <th>ext_col</th>\n",
       "      <th>int_col</th>\n",
       "      <th>accident</th>\n",
       "      <th>clean_title</th>\n",
       "      <th>car_age</th>\n",
       "    </tr>\n",
       "  </thead>\n",
       "  <tbody>\n",
       "    <tr>\n",
       "      <th>0</th>\n",
       "      <td>188533</td>\n",
       "      <td>Land</td>\n",
       "      <td>Rover LR2 Base</td>\n",
       "      <td>2015</td>\n",
       "      <td>98000</td>\n",
       "      <td>gasoline</td>\n",
       "      <td>240.0HP 2.0L 4 Cylinder Engine Gasoline Fuel</td>\n",
       "      <td>6-Speed A/T</td>\n",
       "      <td>White</td>\n",
       "      <td>Beige</td>\n",
       "      <td>None reported</td>\n",
       "      <td>Yes</td>\n",
       "      <td>10</td>\n",
       "    </tr>\n",
       "    <tr>\n",
       "      <th>1</th>\n",
       "      <td>188534</td>\n",
       "      <td>Land</td>\n",
       "      <td>Rover Defender SE</td>\n",
       "      <td>2020</td>\n",
       "      <td>9142</td>\n",
       "      <td>hybrid</td>\n",
       "      <td>395.0HP 3.0L Straight 6 Cylinder Engine Gasoli...</td>\n",
       "      <td>8-Speed A/T</td>\n",
       "      <td>Silver</td>\n",
       "      <td>Black</td>\n",
       "      <td>None reported</td>\n",
       "      <td>Yes</td>\n",
       "      <td>5</td>\n",
       "    </tr>\n",
       "    <tr>\n",
       "      <th>2</th>\n",
       "      <td>188535</td>\n",
       "      <td>Ford</td>\n",
       "      <td>Expedition Limited</td>\n",
       "      <td>2022</td>\n",
       "      <td>28121</td>\n",
       "      <td>gasoline</td>\n",
       "      <td>3.5L V6 24V PDI DOHC Twin Turbo</td>\n",
       "      <td>10-Speed Automatic</td>\n",
       "      <td>White</td>\n",
       "      <td>Ebony</td>\n",
       "      <td>None reported</td>\n",
       "      <td>Unknown</td>\n",
       "      <td>3</td>\n",
       "    </tr>\n",
       "    <tr>\n",
       "      <th>3</th>\n",
       "      <td>188536</td>\n",
       "      <td>Audi</td>\n",
       "      <td>A6 2.0T Sport</td>\n",
       "      <td>2016</td>\n",
       "      <td>61258</td>\n",
       "      <td>gasoline</td>\n",
       "      <td>2.0 Liter TFSI</td>\n",
       "      <td>Automatic</td>\n",
       "      <td>Silician Yellow</td>\n",
       "      <td>Black</td>\n",
       "      <td>None reported</td>\n",
       "      <td>Unknown</td>\n",
       "      <td>9</td>\n",
       "    </tr>\n",
       "    <tr>\n",
       "      <th>4</th>\n",
       "      <td>188537</td>\n",
       "      <td>Audi</td>\n",
       "      <td>A6 2.0T Premium Plus</td>\n",
       "      <td>2018</td>\n",
       "      <td>59000</td>\n",
       "      <td>gasoline</td>\n",
       "      <td>252.0HP 2.0L 4 Cylinder Engine Gasoline Fuel</td>\n",
       "      <td>A/T</td>\n",
       "      <td>Gray</td>\n",
       "      <td>Black</td>\n",
       "      <td>None reported</td>\n",
       "      <td>Yes</td>\n",
       "      <td>7</td>\n",
       "    </tr>\n",
       "  </tbody>\n",
       "</table>\n",
       "</div>"
      ],
      "text/plain": [
       "       id brand                 model  model_year  milage fuel_type  \\\n",
       "0  188533  Land        Rover LR2 Base        2015   98000  gasoline   \n",
       "1  188534  Land     Rover Defender SE        2020    9142    hybrid   \n",
       "2  188535  Ford    Expedition Limited        2022   28121  gasoline   \n",
       "3  188536  Audi         A6 2.0T Sport        2016   61258  gasoline   \n",
       "4  188537  Audi  A6 2.0T Premium Plus        2018   59000  gasoline   \n",
       "\n",
       "                                              engine        transmission  \\\n",
       "0       240.0HP 2.0L 4 Cylinder Engine Gasoline Fuel         6-Speed A/T   \n",
       "1  395.0HP 3.0L Straight 6 Cylinder Engine Gasoli...         8-Speed A/T   \n",
       "2                    3.5L V6 24V PDI DOHC Twin Turbo  10-Speed Automatic   \n",
       "3                                     2.0 Liter TFSI           Automatic   \n",
       "4       252.0HP 2.0L 4 Cylinder Engine Gasoline Fuel                 A/T   \n",
       "\n",
       "           ext_col int_col       accident clean_title  car_age  \n",
       "0            White   Beige  None reported         Yes       10  \n",
       "1           Silver   Black  None reported         Yes        5  \n",
       "2            White   Ebony  None reported     Unknown        3  \n",
       "3  Silician Yellow   Black  None reported     Unknown        9  \n",
       "4             Gray   Black  None reported         Yes        7  "
      ]
     },
     "execution_count": 25,
     "metadata": {},
     "output_type": "execute_result"
    }
   ],
   "source": [
    "# Do the same for test_df\n",
    "test_df['car_age'] = current_year - test_df['model_year']\n",
    "test_df.head()"
   ]
  },
  {
   "cell_type": "markdown",
   "id": "f6e86a8d",
   "metadata": {},
   "source": [
    "### 1.3 Drop irrelevant features like `car_name` if present."
   ]
  },
  {
   "cell_type": "code",
   "execution_count": 26,
   "id": "4618c58e",
   "metadata": {},
   "outputs": [
    {
     "name": "stdout",
     "output_type": "stream",
     "text": [
      "Index(['id', 'brand', 'model', 'model_year', 'milage', 'fuel_type', 'engine',\n",
      "       'transmission', 'ext_col', 'int_col', 'accident', 'clean_title',\n",
      "       'price', 'car_age'],\n",
      "      dtype='object')\n",
      "Index(['id', 'brand', 'model', 'model_year', 'milage', 'fuel_type', 'engine',\n",
      "       'transmission', 'ext_col', 'int_col', 'accident', 'clean_title',\n",
      "       'car_age'],\n",
      "      dtype='object')\n"
     ]
    }
   ],
   "source": [
    "# Check the column names\n",
    "print(train_df.columns)\n",
    "print(test_df.columns)"
   ]
  },
  {
   "cell_type": "code",
   "execution_count": 27,
   "id": "bbf155ea",
   "metadata": {},
   "outputs": [],
   "source": [
    "# Drop irrelevant columns\n",
    "train_df.drop(['id'], axis=1, inplace=True, errors='ignore')\n",
    "test_df.drop(['id'], axis=1, inplace=True, errors='ignore')"
   ]
  },
  {
   "cell_type": "code",
   "execution_count": 28,
   "id": "8dbb02d3",
   "metadata": {},
   "outputs": [
    {
     "name": "stdout",
     "output_type": "stream",
     "text": [
      "<class 'pandas.core.frame.DataFrame'>\n",
      "RangeIndex: 188533 entries, 0 to 188532\n",
      "Data columns (total 13 columns):\n",
      " #   Column        Non-Null Count   Dtype \n",
      "---  ------        --------------   ----- \n",
      " 0   brand         188533 non-null  object\n",
      " 1   model         188533 non-null  object\n",
      " 2   model_year    188533 non-null  int64 \n",
      " 3   milage        188533 non-null  int64 \n",
      " 4   fuel_type     188533 non-null  object\n",
      " 5   engine        188533 non-null  object\n",
      " 6   transmission  188533 non-null  object\n",
      " 7   ext_col       188533 non-null  object\n",
      " 8   int_col       188533 non-null  object\n",
      " 9   accident      188533 non-null  object\n",
      " 10  clean_title   188533 non-null  object\n",
      " 11  price         188533 non-null  int64 \n",
      " 12  car_age       188533 non-null  int64 \n",
      "dtypes: int64(4), object(9)\n",
      "memory usage: 18.7+ MB\n"
     ]
    }
   ],
   "source": [
    "# Verify columns\n",
    "train_df.info()"
   ]
  },
  {
   "cell_type": "markdown",
   "id": "2ec33b4c",
   "metadata": {},
   "source": [
    "### 1.4 Convert categorical variables using One-Hot Encoding or Label Encoding."
   ]
  },
  {
   "cell_type": "code",
   "execution_count": 29,
   "id": "530c7e97",
   "metadata": {},
   "outputs": [
    {
     "name": "stdout",
     "output_type": "stream",
     "text": [
      "Count of unique values in 'brand': 57\n",
      "\n",
      "Count of unique values in 'model': 1897\n",
      "\n",
      "Count of unique values in 'fuel_type': 5\n",
      "\n",
      "Count of unique values in 'engine': 1117\n",
      "\n",
      "Count of unique values in 'transmission': 52\n",
      "\n",
      "Count of unique values in 'ext_col': 319\n",
      "\n",
      "Count of unique values in 'int_col': 156\n",
      "\n",
      "Count of unique values in 'accident': 3\n",
      "\n",
      "Count of unique values in 'clean_title': 2\n",
      "\n"
     ]
    }
   ],
   "source": [
    "categorical_cols = train_df.select_dtypes(include=['object', 'category']).columns\n",
    "\n",
    "for col in categorical_cols:\n",
    "    unique_count = train_df[col].nunique()\n",
    "    print(f\"Count of unique values in '{col}': {unique_count}\")\n",
    "    print()"
   ]
  },
  {
   "cell_type": "markdown",
   "id": "5baed667",
   "metadata": {},
   "source": [
    "**Strategies for categorical features:**\n",
    "\n",
    "* `fuel_type`, `accident` and `clean_title` have low cardianlity of less than 10 unique values and their values have no inherent ordinal relationship. Thus, I am using `OneHotEncoder` to convert these categorical features into binary indicator variables without introducing any artificial ordering. \n",
    "\n",
    "* Aside from `fuel_type`, `accident` and `clean_title`, the rest of categorical features have high cardinality.\n",
    "\n",
    "* Especially, `model` and `engine` columns, which has 1897 and 1117 unique values respectively. This makes typical one-hot encoding impractical due to dimensionality explosion and risk of overfitting.\n",
    "\n",
    "* According to scikit-learn's documentation, for such columns, it is suggested to use `TargetEncoder`. (scikit-learn User Guide, 2024)\n",
    "\n",
    "* So, in my case:\n",
    "\n",
    "    * I’ll apply `TargetEncoder` for `model`, `engine`, `ext_col` and `int_col`.\n",
    "\n",
    "    * For moderate-cardinality features like `brand` and `transmission`, I’ll use `OneHotEncoder` with `handle_unknown='infrequent_if_exist'`.\n",
    "\n",
    "    * If needed, I can also use `OrdinalEncoder(max_categories=100)` or `FeatureHasher` to compress high-cardinality columns into a smaller, manageable space."
   ]
  },
  {
   "cell_type": "code",
   "execution_count": 30,
   "id": "9ca591c6",
   "metadata": {},
   "outputs": [],
   "source": [
    "# Define target\n",
    "target = 'price'\n",
    "\n",
    "# Separate target and features\n",
    "y_train = train_df[target]\n",
    "X_train = train_df.drop(columns=[target])\n",
    "X_test = test_df.copy()"
   ]
  },
  {
   "cell_type": "code",
   "execution_count": 31,
   "id": "4788900e",
   "metadata": {},
   "outputs": [
    {
     "name": "stdout",
     "output_type": "stream",
     "text": [
      "(188533, 12)\n",
      "(125690, 12)\n"
     ]
    }
   ],
   "source": [
    "print(X_train.shape)\n",
    "print(X_test.shape)"
   ]
  },
  {
   "cell_type": "code",
   "execution_count": 32,
   "id": "dc8cf298",
   "metadata": {},
   "outputs": [],
   "source": [
    "# Define columns\n",
    "low_cardinality_cols = ['fuel_type', 'accident', 'clean_title']\n",
    "\n",
    "# Encode \n",
    "column_transformer = ColumnTransformer(\n",
    "    transformers=[\n",
    "        ('ohe', OneHotEncoder(handle_unknown='ignore', sparse_output=False), low_cardinality_cols)\n",
    "    ],\n",
    "    remainder='passthrough'  # keep other features untouched\n",
    ")\n",
    "\n",
    "# Fit and transform train data\n",
    "X_train_encoded = column_transformer.fit_transform(X_train)\n",
    "\n",
    "# Transform test data\n",
    "X_test_encoded = column_transformer.transform(X_test)"
   ]
  },
  {
   "cell_type": "code",
   "execution_count": 33,
   "id": "b848e6d2",
   "metadata": {},
   "outputs": [
    {
     "name": "stdout",
     "output_type": "stream",
     "text": [
      "(188533, 19)\n",
      "(125690, 19)\n"
     ]
    }
   ],
   "source": [
    "# Verify the changes\n",
    "print(X_train_encoded.shape)\n",
    "print(X_test_encoded.shape)"
   ]
  },
  {
   "cell_type": "code",
   "execution_count": 34,
   "id": "df343428",
   "metadata": {},
   "outputs": [
    {
     "name": "stdout",
     "output_type": "stream",
     "text": [
      "['fuel_type_Unknown' 'fuel_type_diesel' 'fuel_type_gasoline'\n",
      " 'fuel_type_hybrid' 'fuel_type_plug-in hybrid'\n",
      " 'accident_At least 1 accident or damage reported'\n",
      " 'accident_None reported' 'accident_Unknown' 'clean_title_Unknown'\n",
      " 'clean_title_Yes']\n"
     ]
    }
   ],
   "source": [
    "# Verify the transformed feature names\n",
    "ohe = column_transformer.named_transformers_['ohe']\n",
    "print(ohe.get_feature_names_out(low_cardinality_cols))"
   ]
  },
  {
   "cell_type": "code",
   "execution_count": 37,
   "id": "118a7d6a",
   "metadata": {},
   "outputs": [
    {
     "ename": "MemoryError",
     "evalue": "Unable to allocate 1.76 GiB for an array with shape (150826, 1569) and data type int64",
     "output_type": "error",
     "traceback": [
      "\u001b[1;31m---------------------------------------------------------------------------\u001b[0m",
      "\u001b[1;31mMemoryError\u001b[0m                               Traceback (most recent call last)",
      "Cell \u001b[1;32mIn[37], line 8\u001b[0m\n\u001b[0;32m      5\u001b[0m encoder \u001b[38;5;241m=\u001b[39m TargetEncoder()\n\u001b[0;32m      7\u001b[0m \u001b[38;5;66;03m# Fit and transform traning column\u001b[39;00m\n\u001b[1;32m----> 8\u001b[0m X_train[col] \u001b[38;5;241m=\u001b[39m \u001b[43mencoder\u001b[49m\u001b[38;5;241;43m.\u001b[39;49m\u001b[43mfit_transform\u001b[49m\u001b[43m(\u001b[49m\u001b[43mX_train\u001b[49m\u001b[43m[\u001b[49m\u001b[43m[\u001b[49m\u001b[43mcol\u001b[49m\u001b[43m]\u001b[49m\u001b[43m]\u001b[49m\u001b[43m,\u001b[49m\u001b[43m \u001b[49m\u001b[43my_train\u001b[49m\u001b[43m)\u001b[49m\u001b[38;5;241m.\u001b[39mastype(\u001b[38;5;124m'\u001b[39m\u001b[38;5;124mfloat32\u001b[39m\u001b[38;5;124m'\u001b[39m)\n\u001b[0;32m     10\u001b[0m \u001b[38;5;66;03m# Transform test column\u001b[39;00m\n\u001b[0;32m     11\u001b[0m X_test[col] \u001b[38;5;241m=\u001b[39m encoder\u001b[38;5;241m.\u001b[39mtransform(X_test[[col]])\u001b[38;5;241m.\u001b[39mastype(\u001b[38;5;124m'\u001b[39m\u001b[38;5;124mfloat32\u001b[39m\u001b[38;5;124m'\u001b[39m)\n",
      "File \u001b[1;32mc:\\Users\\Home\\AppData\\Local\\Programs\\Python\\Python312\\Lib\\site-packages\\sklearn\\utils\\_set_output.py:319\u001b[0m, in \u001b[0;36m_wrap_method_output.<locals>.wrapped\u001b[1;34m(self, X, *args, **kwargs)\u001b[0m\n\u001b[0;32m    317\u001b[0m \u001b[38;5;129m@wraps\u001b[39m(f)\n\u001b[0;32m    318\u001b[0m \u001b[38;5;28;01mdef\u001b[39;00m\u001b[38;5;250m \u001b[39m\u001b[38;5;21mwrapped\u001b[39m(\u001b[38;5;28mself\u001b[39m, X, \u001b[38;5;241m*\u001b[39margs, \u001b[38;5;241m*\u001b[39m\u001b[38;5;241m*\u001b[39mkwargs):\n\u001b[1;32m--> 319\u001b[0m     data_to_wrap \u001b[38;5;241m=\u001b[39m \u001b[43mf\u001b[49m\u001b[43m(\u001b[49m\u001b[38;5;28;43mself\u001b[39;49m\u001b[43m,\u001b[49m\u001b[43m \u001b[49m\u001b[43mX\u001b[49m\u001b[43m,\u001b[49m\u001b[43m \u001b[49m\u001b[38;5;241;43m*\u001b[39;49m\u001b[43margs\u001b[49m\u001b[43m,\u001b[49m\u001b[43m \u001b[49m\u001b[38;5;241;43m*\u001b[39;49m\u001b[38;5;241;43m*\u001b[39;49m\u001b[43mkwargs\u001b[49m\u001b[43m)\u001b[49m\n\u001b[0;32m    320\u001b[0m     \u001b[38;5;28;01mif\u001b[39;00m \u001b[38;5;28misinstance\u001b[39m(data_to_wrap, \u001b[38;5;28mtuple\u001b[39m):\n\u001b[0;32m    321\u001b[0m         \u001b[38;5;66;03m# only wrap the first output for cross decomposition\u001b[39;00m\n\u001b[0;32m    322\u001b[0m         return_tuple \u001b[38;5;241m=\u001b[39m (\n\u001b[0;32m    323\u001b[0m             _wrap_data_with_container(method, data_to_wrap[\u001b[38;5;241m0\u001b[39m], X, \u001b[38;5;28mself\u001b[39m),\n\u001b[0;32m    324\u001b[0m             \u001b[38;5;241m*\u001b[39mdata_to_wrap[\u001b[38;5;241m1\u001b[39m:],\n\u001b[0;32m    325\u001b[0m         )\n",
      "File \u001b[1;32mc:\\Users\\Home\\AppData\\Local\\Programs\\Python\\Python312\\Lib\\site-packages\\sklearn\\base.py:1389\u001b[0m, in \u001b[0;36m_fit_context.<locals>.decorator.<locals>.wrapper\u001b[1;34m(estimator, *args, **kwargs)\u001b[0m\n\u001b[0;32m   1382\u001b[0m     estimator\u001b[38;5;241m.\u001b[39m_validate_params()\n\u001b[0;32m   1384\u001b[0m \u001b[38;5;28;01mwith\u001b[39;00m config_context(\n\u001b[0;32m   1385\u001b[0m     skip_parameter_validation\u001b[38;5;241m=\u001b[39m(\n\u001b[0;32m   1386\u001b[0m         prefer_skip_nested_validation \u001b[38;5;129;01mor\u001b[39;00m global_skip_validation\n\u001b[0;32m   1387\u001b[0m     )\n\u001b[0;32m   1388\u001b[0m ):\n\u001b[1;32m-> 1389\u001b[0m     \u001b[38;5;28;01mreturn\u001b[39;00m \u001b[43mfit_method\u001b[49m\u001b[43m(\u001b[49m\u001b[43mestimator\u001b[49m\u001b[43m,\u001b[49m\u001b[43m \u001b[49m\u001b[38;5;241;43m*\u001b[39;49m\u001b[43margs\u001b[49m\u001b[43m,\u001b[49m\u001b[43m \u001b[49m\u001b[38;5;241;43m*\u001b[39;49m\u001b[38;5;241;43m*\u001b[39;49m\u001b[43mkwargs\u001b[49m\u001b[43m)\u001b[49m\n",
      "File \u001b[1;32mc:\\Users\\Home\\AppData\\Local\\Programs\\Python\\Python312\\Lib\\site-packages\\sklearn\\preprocessing\\_target_encoder.py:281\u001b[0m, in \u001b[0;36mTargetEncoder.fit_transform\u001b[1;34m(self, X, y)\u001b[0m\n\u001b[0;32m    278\u001b[0m     X_out \u001b[38;5;241m=\u001b[39m np\u001b[38;5;241m.\u001b[39mempty_like(X_ordinal, dtype\u001b[38;5;241m=\u001b[39mnp\u001b[38;5;241m.\u001b[39mfloat64)\n\u001b[0;32m    280\u001b[0m \u001b[38;5;28;01mfor\u001b[39;00m train_idx, test_idx \u001b[38;5;129;01min\u001b[39;00m cv\u001b[38;5;241m.\u001b[39msplit(X, y):\n\u001b[1;32m--> 281\u001b[0m     X_train, y_train \u001b[38;5;241m=\u001b[39m X_ordinal[train_idx, :], \u001b[43my_encoded\u001b[49m\u001b[43m[\u001b[49m\u001b[43mtrain_idx\u001b[49m\u001b[43m]\u001b[49m\n\u001b[0;32m    282\u001b[0m     y_train_mean \u001b[38;5;241m=\u001b[39m np\u001b[38;5;241m.\u001b[39mmean(y_train, axis\u001b[38;5;241m=\u001b[39m\u001b[38;5;241m0\u001b[39m)\n\u001b[0;32m    284\u001b[0m     \u001b[38;5;28;01mif\u001b[39;00m \u001b[38;5;28mself\u001b[39m\u001b[38;5;241m.\u001b[39mtarget_type_ \u001b[38;5;241m==\u001b[39m \u001b[38;5;124m\"\u001b[39m\u001b[38;5;124mmulticlass\u001b[39m\u001b[38;5;124m\"\u001b[39m:\n",
      "\u001b[1;31mMemoryError\u001b[0m: Unable to allocate 1.76 GiB for an array with shape (150826, 1569) and data type int64"
     ]
    }
   ],
   "source": [
    "high_cardinality_cols = ['model', 'engine', 'ext_col', 'int_col']\n",
    "\n",
    "for col in high_cardinality_cols:\n",
    "    # Initialize the encoder\n",
    "    encoder = TargetEncoder()\n",
    "\n",
    "    # Fit and transform traning column\n",
    "    X_train[col] = encoder.fit_transform(X_train[[col]], y_train).astype('float32')\n",
    "\n",
    "    # Transform test column\n",
    "    X_test[col] = encoder.transform(X_test[[col]]).astype('float32')\n",
    "\n",
    "    # Free memory explicitly\n",
    "    del encoder\n",
    "    gc.collect()"
   ]
  },
  {
   "cell_type": "code",
   "execution_count": null,
   "id": "be187361",
   "metadata": {},
   "outputs": [
    {
     "name": "stdout",
     "output_type": "stream",
     "text": [
      "model      float32\n",
      "engine     float32\n",
      "ext_col    float32\n",
      "int_col    float32\n",
      "dtype: object\n"
     ]
    }
   ],
   "source": [
    "# Verify the changes of high-cardinality\n",
    "print(X_train[high_cardinality_cols].dtypes)"
   ]
  },
  {
   "cell_type": "code",
   "execution_count": null,
   "id": "1fe55630",
   "metadata": {},
   "outputs": [],
   "source": [
    "# Encode moderate-cardinality features"
   ]
  },
  {
   "cell_type": "markdown",
   "id": "7749e84e",
   "metadata": {},
   "source": [
    "### 1.5 Normalize or scale the features where needed."
   ]
  },
  {
   "cell_type": "code",
   "execution_count": null,
   "id": "350d4c3c",
   "metadata": {},
   "outputs": [],
   "source": []
  },
  {
   "cell_type": "code",
   "execution_count": null,
   "id": "2be64dc9",
   "metadata": {},
   "outputs": [],
   "source": []
  },
  {
   "cell_type": "markdown",
   "id": "ceb11d40",
   "metadata": {},
   "source": [
    "## 2. Exploratory Data Analysis"
   ]
  },
  {
   "cell_type": "markdown",
   "id": "698a01ff",
   "metadata": {},
   "source": [
    "### 2.1 Visualize Price Distribution, Correlations, and Key Relationships"
   ]
  },
  {
   "cell_type": "code",
   "execution_count": null,
   "id": "157347e5",
   "metadata": {},
   "outputs": [],
   "source": []
  },
  {
   "cell_type": "markdown",
   "id": "fd715377",
   "metadata": {},
   "source": [
    "### 2.2 Boxplots for Categorical Features vs. `selling_price`"
   ]
  },
  {
   "cell_type": "code",
   "execution_count": null,
   "id": "0473b012",
   "metadata": {},
   "outputs": [],
   "source": []
  },
  {
   "cell_type": "markdown",
   "id": "1c34464c",
   "metadata": {},
   "source": [
    "### 2.3 Histograms and Scatter Plots for Numerical Features"
   ]
  },
  {
   "cell_type": "code",
   "execution_count": null,
   "id": "c9c6a37b",
   "metadata": {},
   "outputs": [],
   "source": []
  },
  {
   "cell_type": "markdown",
   "id": "a195aef2",
   "metadata": {},
   "source": [
    "## 3. Model Building"
   ]
  },
  {
   "cell_type": "markdown",
   "id": "2193953e",
   "metadata": {},
   "source": [
    "### 3.1 Linear Regression"
   ]
  },
  {
   "cell_type": "code",
   "execution_count": null,
   "id": "83fcb353",
   "metadata": {},
   "outputs": [],
   "source": []
  },
  {
   "cell_type": "markdown",
   "id": "ba9ca391",
   "metadata": {},
   "source": [
    "### 3.2 Ridge Regression"
   ]
  },
  {
   "cell_type": "code",
   "execution_count": null,
   "id": "bbbc463d",
   "metadata": {},
   "outputs": [],
   "source": []
  },
  {
   "cell_type": "markdown",
   "id": "17fe0a33",
   "metadata": {},
   "source": [
    "### 3.3 Random Forest Regressor"
   ]
  },
  {
   "cell_type": "code",
   "execution_count": null,
   "id": "f5cff2f7",
   "metadata": {},
   "outputs": [],
   "source": []
  },
  {
   "cell_type": "markdown",
   "id": "d12b43b2",
   "metadata": {},
   "source": [
    "### 3.4 XGBoost Regressor (Optional: use LightGBM or any other advanced model)"
   ]
  },
  {
   "cell_type": "code",
   "execution_count": null,
   "id": "de35cb7a",
   "metadata": {},
   "outputs": [],
   "source": []
  },
  {
   "cell_type": "markdown",
   "id": "8855b7ee",
   "metadata": {},
   "source": [
    "## 4. Model Evaluation"
   ]
  },
  {
   "cell_type": "markdown",
   "id": "898e6765",
   "metadata": {},
   "source": [
    "### 4.1 Evaluate each model using:\n",
    "- R² Score\n",
    "- Mean Absolute Error (MAE)\n",
    "- Root Mean Squared Error (RMSE)"
   ]
  },
  {
   "cell_type": "code",
   "execution_count": null,
   "id": "12a0d97a",
   "metadata": {},
   "outputs": [],
   "source": []
  },
  {
   "cell_type": "markdown",
   "id": "d840133e",
   "metadata": {},
   "source": [
    "### 4.2 Use cross-validation (e.g., 5-fold) to ensure generalization."
   ]
  },
  {
   "cell_type": "code",
   "execution_count": null,
   "id": "c51a9662",
   "metadata": {},
   "outputs": [],
   "source": []
  },
  {
   "cell_type": "markdown",
   "id": "c1f69b41",
   "metadata": {},
   "source": [
    "## 5. Model Selection"
   ]
  },
  {
   "cell_type": "markdown",
   "id": "5462816e",
   "metadata": {},
   "source": [
    "### 5.1 Select the best model based on lowest RMSE and highest R²."
   ]
  },
  {
   "cell_type": "code",
   "execution_count": null,
   "id": "c10227c6",
   "metadata": {},
   "outputs": [],
   "source": []
  },
  {
   "cell_type": "markdown",
   "id": "4cc5dd38",
   "metadata": {},
   "source": [
    "### 5.2 Show a comparison table for model performance."
   ]
  },
  {
   "cell_type": "code",
   "execution_count": null,
   "id": "83d9cd4e",
   "metadata": {},
   "outputs": [],
   "source": []
  },
  {
   "cell_type": "markdown",
   "id": "cb723b13",
   "metadata": {},
   "source": [
    "## 6. Save the Best Model"
   ]
  },
  {
   "cell_type": "code",
   "execution_count": null,
   "id": "4c258d55",
   "metadata": {},
   "outputs": [],
   "source": []
  },
  {
   "cell_type": "markdown",
   "id": "9f7ea281",
   "metadata": {},
   "source": [
    "### 6.1 Use `joblib` or `pickle` to save the best-performing model."
   ]
  },
  {
   "cell_type": "code",
   "execution_count": null,
   "id": "7521fa8e",
   "metadata": {},
   "outputs": [],
   "source": []
  },
  {
   "cell_type": "markdown",
   "id": "d7e6a934",
   "metadata": {},
   "source": [
    "## References"
   ]
  },
  {
   "cell_type": "markdown",
   "id": "b149e06a",
   "metadata": {},
   "source": [
    "* Reade, W. and Chow, A. (2024). Regression of Used Car Prices. [online] Kaggle. Available at: https://www.kaggle.com/competitions/playground-series-s4e9/overview [Accessed 21 Jun. 2025].\n",
    "\n",
    "* Python Documentation. (2019). datetime — Basic date and time types. [online] Available at: https://docs.python.org/3/library/datetime.html#datetime.date.year [Accessed 16 Jun. 2025].\n",
    "\n",
    "* Pandas 1.4.1 Documentation. (2025). Options and Settings. [online] Available at: https://pandas.pydata.org/docs/user_guide/options.html [Accessed 16 Jun. 2025]."
   ]
  }
 ],
 "metadata": {
  "kernelspec": {
   "display_name": "Python 3",
   "language": "python",
   "name": "python3"
  },
  "language_info": {
   "codemirror_mode": {
    "name": "ipython",
    "version": 3
   },
   "file_extension": ".py",
   "mimetype": "text/x-python",
   "name": "python",
   "nbconvert_exporter": "python",
   "pygments_lexer": "ipython3",
   "version": "3.12.0"
  }
 },
 "nbformat": 4,
 "nbformat_minor": 5
}
